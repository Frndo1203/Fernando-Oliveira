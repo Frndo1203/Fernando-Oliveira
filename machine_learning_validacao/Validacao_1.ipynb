{
 "cells": [
  {
   "cell_type": "code",
   "execution_count": 32,
   "metadata": {},
   "outputs": [],
   "source": [
    "import pandas as pd\n",
    "import numpy  as np\n",
    "\n",
    "np.random.seed(47)\n",
    "\n",
    "import matplotlib.pyplot as plt\n",
    "import seaborn           as sns\n",
    "\n",
    "%matplotlib inline\n",
    "sns.set(palette = 'mako', style = 'darkgrid')\n",
    "\n",
    "from scipy.stats             import norm\n",
    "from sklearn.pipeline        import Pipeline\n",
    "from sklearn.preprocessing   import StandardScaler\n",
    "from sklearn.dummy           import DummyClassifier\n",
    "from sklearn.ensemble        import RandomForestClassifier, AdaBoostClassifier\n",
    "from sklearn.model_selection import train_test_split, cross_validate, cross_val_score, StratifiedKFold, KFold, GroupKFold\n",
    "from sklearn.metrics         import make_scorer, accuracy_score, confusion_matrix, precision_score, recall_score, f1_score"
   ]
  },
  {
   "cell_type": "code",
   "execution_count": 2,
   "metadata": {},
   "outputs": [],
   "source": [
    "url = 'https://gist.githubusercontent.com/guilhermesilveira/4d1d4a16ccbf6ea4e0a64a38a24ec884/raw/afd05cb0c796d18f3f5a6537053ded308ba94bf7/car-prices.csv'\n",
    "\n",
    "df = pd.read_csv(url)"
   ]
  },
  {
   "cell_type": "code",
   "execution_count": 3,
   "metadata": {},
   "outputs": [],
   "source": [
    "df.drop('Unnamed: 0', axis = 1, inplace = True)"
   ]
  },
  {
   "cell_type": "code",
   "execution_count": 4,
   "metadata": {},
   "outputs": [],
   "source": [
    "sold_map = {\n",
    "    'no':0,\n",
    "    'yes':1\n",
    "}\n",
    "\n",
    "df.sold= df.sold.map(sold_map)"
   ]
  },
  {
   "cell_type": "code",
   "execution_count": 5,
   "metadata": {},
   "outputs": [
    {
     "data": {
      "text/html": [
       "<div>\n",
       "<style scoped>\n",
       "    .dataframe tbody tr th:only-of-type {\n",
       "        vertical-align: middle;\n",
       "    }\n",
       "\n",
       "    .dataframe tbody tr th {\n",
       "        vertical-align: top;\n",
       "    }\n",
       "\n",
       "    .dataframe thead th {\n",
       "        text-align: right;\n",
       "    }\n",
       "</style>\n",
       "<table border=\"1\" class=\"dataframe\">\n",
       "  <thead>\n",
       "    <tr style=\"text-align: right;\">\n",
       "      <th></th>\n",
       "      <th>mileage_per_year</th>\n",
       "      <th>model_year</th>\n",
       "      <th>price</th>\n",
       "      <th>sold</th>\n",
       "    </tr>\n",
       "  </thead>\n",
       "  <tbody>\n",
       "    <tr>\n",
       "      <th>0</th>\n",
       "      <td>21801</td>\n",
       "      <td>2000</td>\n",
       "      <td>30941.02</td>\n",
       "      <td>1</td>\n",
       "    </tr>\n",
       "    <tr>\n",
       "      <th>1</th>\n",
       "      <td>7843</td>\n",
       "      <td>1998</td>\n",
       "      <td>40557.96</td>\n",
       "      <td>1</td>\n",
       "    </tr>\n",
       "    <tr>\n",
       "      <th>2</th>\n",
       "      <td>7109</td>\n",
       "      <td>2006</td>\n",
       "      <td>89627.50</td>\n",
       "      <td>0</td>\n",
       "    </tr>\n",
       "    <tr>\n",
       "      <th>3</th>\n",
       "      <td>26823</td>\n",
       "      <td>2015</td>\n",
       "      <td>95276.14</td>\n",
       "      <td>0</td>\n",
       "    </tr>\n",
       "    <tr>\n",
       "      <th>4</th>\n",
       "      <td>7935</td>\n",
       "      <td>2014</td>\n",
       "      <td>117384.68</td>\n",
       "      <td>1</td>\n",
       "    </tr>\n",
       "  </tbody>\n",
       "</table>\n",
       "</div>"
      ],
      "text/plain": [
       "   mileage_per_year  model_year      price  sold\n",
       "0             21801        2000   30941.02     1\n",
       "1              7843        1998   40557.96     1\n",
       "2              7109        2006   89627.50     0\n",
       "3             26823        2015   95276.14     0\n",
       "4              7935        2014  117384.68     1"
      ]
     },
     "metadata": {},
     "output_type": "display_data"
    },
    {
     "data": {
      "text/plain": [
       "(10000, 4)"
      ]
     },
     "metadata": {},
     "output_type": "display_data"
    }
   ],
   "source": [
    "display(df.head())\n",
    "display(df.shape)"
   ]
  },
  {
   "cell_type": "code",
   "execution_count": 6,
   "metadata": {},
   "outputs": [
    {
     "data": {
      "text/plain": [
       "mileage_per_year    0\n",
       "model_year          0\n",
       "price               0\n",
       "sold                0\n",
       "dtype: int64"
      ]
     },
     "execution_count": 6,
     "metadata": {},
     "output_type": "execute_result"
    }
   ],
   "source": [
    "df.isnull().sum()"
   ]
  },
  {
   "cell_type": "code",
   "execution_count": 7,
   "metadata": {},
   "outputs": [],
   "source": [
    "df.model_year = 2020 - df.model_year"
   ]
  },
  {
   "cell_type": "code",
   "execution_count": 8,
   "metadata": {},
   "outputs": [
    {
     "data": {
      "image/png": "[encoded data removed]",
      "text/plain": [
       "<Figure size 432x288 with 2 Axes>"
      ]
     },
     "metadata": {},
     "output_type": "display_data"
    }
   ],
   "source": [
    "sub_sample_corr = df.corr()\n",
    "\n",
    "ax = sns.heatmap(sub_sample_corr, cmap='coolwarm_r', annot = True)\n",
    "ax.set_title('SubSample Correlation Matrix \\n (use for reference)', fontsize=14)\n",
    "plt.show()"
   ]
  },
  {
   "cell_type": "code",
   "execution_count": 9,
   "metadata": {},
   "outputs": [
    {
     "data": {
      "image/png": "[encoded data removed]",
      "text/plain": [
       "<Figure size 1440x432 with 3 Axes>"
      ]
     },
     "metadata": {},
     "output_type": "display_data"
    }
   ],
   "source": [
    "f, axes = plt.subplots(1, 3, figsize=(20, 6))\n",
    "\n",
    "#milage per year dist plot\n",
    "mileage_dist = df['mileage_per_year']\n",
    "\n",
    "sns.distplot(mileage_dist, ax=axes[0], fit=norm, color='#FB8861')\n",
    "axes[0].set_title('Mileage per Year Distribution \\n (Sold cars)', fontsize=14)\n",
    "\n",
    "#model year dist plot\n",
    "model_dist = df['model_year']\n",
    "\n",
    "sns.distplot(model_dist, ax=axes[1], fit=norm, color='#56F9BB')\n",
    "axes[1].set_title('Model Year Distribution \\n (Sold cars)', fontsize=14)\n",
    "\n",
    "#price of model plot\n",
    "price_dist = df['price']\n",
    "\n",
    "sns.distplot(price_dist, ax=axes[2], fit=norm, color='#C5B3F9')\n",
    "axes[2].set_title('Price Distribution \\n (Sold cars)', fontsize=14)\n",
    "\n",
    "plt.show()"
   ]
  },
  {
   "cell_type": "code",
   "execution_count": 10,
   "metadata": {},
   "outputs": [
    {
     "name": "stdout",
     "output_type": "stream",
     "text": [
      "Quartile 25: 10474.75 | Quartile 75: 17176.75\n",
      "iqr: 6702.0\n",
      "Cut Off: 10053.0\n",
      "mileage Lower 421.75\n",
      "mileage Upper: 27229.75\n",
      "Feature mileage_per_year Outliers: 146\n",
      "mileage_per_year outliers:[28915, 27565, 28868, 27781, 27585, 28770, 27768, 37394, 39226, 363, 31071, 27865, 28383, 28357, 31268, 31500, 28473, 27386, 32244, 28479, 28400, 33669, 34889, 28297, 34137, 30104, 34786, 29780, 27404, 28025, 27720, 29884, 27366, 28711, 27670, 28880, 30074, 27585, 30680, 28122, 32351, 39572, 27430, 34029, 34491, 30125, 28945, 38023, 27892, 30457, 28082, 29810, 29122, 27674, 28027, 34786, 32096, 29444, 29326, 29226, 27689, 28570, 29285, 28428, 30479, 30684, 29105, 28272, 29683, 27946, 27282, 30130, 30572, 31870, 33046, 32090, 30600, 29175, 31226, 31169, 27925, 32435, 28874, 31167, 27872, 29574, 30729, 31256, 28547, 27325, 29069, 27948, 29639, 33919, 27383, 27633, 33575, 27297, 30963, 27307, 30902, 38307, 27515, 27491, 32962, 27775, 30695, 28674, 30121, 31928, 27484, 29745, 31605, 28923, 33474, 27632, 28159, 28879, 30045, 31750, 30373, 29517, 29706, 31508, 29307, 33192, 28491, 31059, 28735, 27494, 27564, 30839, 29743, 28620, 29388, 30119, 27373, 27313, 28160, 31603, 28926, 28443, 31511, 34922, 27461, 29642]\n",
      "--------------------------------------------------------------------------------------------------------------------------------------------------------------------------------\n"
     ]
    }
   ],
   "source": [
    "# # -----> mileage_per_year Removing Outliers (Highest Negative Correlated with Labels)\n",
    "q25, q75  = np.percentile(mileage_dist, 25), np.percentile(mileage_dist, 75)\n",
    "print('Quartile 25: {} | Quartile 75: {}'.format(q25, q75))\n",
    "mileage_iqr = q75 - q25\n",
    "print('iqr: {}'.format(mileage_iqr))\n",
    "\n",
    "mileage_cut_off             = mileage_iqr * 1.5\n",
    "mileage_lower, mileage_upper = q25 - mileage_cut_off, q75 + mileage_cut_off\n",
    "print('Cut Off: {}'.format(mileage_cut_off))\n",
    "print('mileage Lower {}'.format(mileage_lower))\n",
    "print('mileage Upper: {}'.format(mileage_upper))\n",
    "\n",
    "outliers = [x for x in mileage_dist if x < mileage_lower or x > mileage_upper]\n",
    "print('Feature mileage_per_year Outliers: {}'.format(len(outliers)))\n",
    "print('mileage_per_year outliers:{}'.format(outliers))\n",
    "\n",
    "df = df.drop(df[(df['mileage_per_year'] > mileage_upper) | (df['mileage_per_year'] < mileage_lower)].index)\n",
    "print('----' * 44)"
   ]
  },
  {
   "cell_type": "code",
   "execution_count": 11,
   "metadata": {},
   "outputs": [],
   "source": [
    "X = df.drop('sold', axis = 1)\n",
    "y = df['sold']"
   ]
  },
  {
   "cell_type": "code",
   "execution_count": 12,
   "metadata": {},
   "outputs": [],
   "source": [
    "scaler   = StandardScaler()\n",
    "scaled_X = pd.DataFrame(scaler.fit_transform(X), columns = X.columns)"
   ]
  },
  {
   "cell_type": "code",
   "execution_count": 13,
   "metadata": {},
   "outputs": [
    {
     "data": {
      "text/html": [
       "<div>\n",
       "<style scoped>\n",
       "    .dataframe tbody tr th:only-of-type {\n",
       "        vertical-align: middle;\n",
       "    }\n",
       "\n",
       "    .dataframe tbody tr th {\n",
       "        vertical-align: top;\n",
       "    }\n",
       "\n",
       "    .dataframe thead th {\n",
       "        text-align: right;\n",
       "    }\n",
       "</style>\n",
       "<table border=\"1\" class=\"dataframe\">\n",
       "  <thead>\n",
       "    <tr style=\"text-align: right;\">\n",
       "      <th></th>\n",
       "      <th>mileage_per_year</th>\n",
       "      <th>model_year</th>\n",
       "      <th>price</th>\n",
       "    </tr>\n",
       "  </thead>\n",
       "  <tbody>\n",
       "    <tr>\n",
       "      <th>0</th>\n",
       "      <td>1.688429</td>\n",
       "      <td>0.884126</td>\n",
       "      <td>-1.341980</td>\n",
       "    </tr>\n",
       "    <tr>\n",
       "      <th>1</th>\n",
       "      <td>-1.314198</td>\n",
       "      <td>1.311298</td>\n",
       "      <td>-0.961086</td>\n",
       "    </tr>\n",
       "    <tr>\n",
       "      <th>2</th>\n",
       "      <td>-1.472096</td>\n",
       "      <td>-0.397391</td>\n",
       "      <td>0.982390</td>\n",
       "    </tr>\n",
       "    <tr>\n",
       "      <th>3</th>\n",
       "      <td>2.768756</td>\n",
       "      <td>-2.319665</td>\n",
       "      <td>1.206114</td>\n",
       "    </tr>\n",
       "    <tr>\n",
       "      <th>4</th>\n",
       "      <td>-1.294408</td>\n",
       "      <td>-2.106079</td>\n",
       "      <td>2.081757</td>\n",
       "    </tr>\n",
       "    <tr>\n",
       "      <th>...</th>\n",
       "      <td>...</td>\n",
       "      <td>...</td>\n",
       "      <td>...</td>\n",
       "    </tr>\n",
       "    <tr>\n",
       "      <th>9849</th>\n",
       "      <td>0.348454</td>\n",
       "      <td>-0.397391</td>\n",
       "      <td>1.278860</td>\n",
       "    </tr>\n",
       "    <tr>\n",
       "      <th>9850</th>\n",
       "      <td>-0.151912</td>\n",
       "      <td>0.456954</td>\n",
       "      <td>1.687274</td>\n",
       "    </tr>\n",
       "    <tr>\n",
       "      <th>9851</th>\n",
       "      <td>-0.200959</td>\n",
       "      <td>-2.106079</td>\n",
       "      <td>1.149906</td>\n",
       "    </tr>\n",
       "    <tr>\n",
       "      <th>9852</th>\n",
       "      <td>-0.750372</td>\n",
       "      <td>-1.465321</td>\n",
       "      <td>-0.537588</td>\n",
       "    </tr>\n",
       "    <tr>\n",
       "      <th>9853</th>\n",
       "      <td>-0.342077</td>\n",
       "      <td>1.097712</td>\n",
       "      <td>0.915781</td>\n",
       "    </tr>\n",
       "  </tbody>\n",
       "</table>\n",
       "<p>9854 rows × 3 columns</p>\n",
       "</div>"
      ],
      "text/plain": [
       "      mileage_per_year  model_year     price\n",
       "0             1.688429    0.884126 -1.341980\n",
       "1            -1.314198    1.311298 -0.961086\n",
       "2            -1.472096   -0.397391  0.982390\n",
       "3             2.768756   -2.319665  1.206114\n",
       "4            -1.294408   -2.106079  2.081757\n",
       "...                ...         ...       ...\n",
       "9849          0.348454   -0.397391  1.278860\n",
       "9850         -0.151912    0.456954  1.687274\n",
       "9851         -0.200959   -2.106079  1.149906\n",
       "9852         -0.750372   -1.465321 -0.537588\n",
       "9853         -0.342077    1.097712  0.915781\n",
       "\n",
       "[9854 rows x 3 columns]"
      ]
     },
     "execution_count": 13,
     "metadata": {},
     "output_type": "execute_result"
    }
   ],
   "source": [
    "scaled_X"
   ]
  },
  {
   "cell_type": "markdown",
   "metadata": {},
   "source": [
    "<h2>Cross-val Functions</h2>"
   ]
  },
  {
   "cell_type": "code",
   "execution_count": 15,
   "metadata": {},
   "outputs": [],
   "source": [
    "def valid(y_pred, y_test):\n",
    "    #printing the model's root mean squared logarithm error\n",
    "    print(f'accuracy:    {((accuracy_score(y_test, y_pred))*100).round(3)}%')\n",
    "    \n",
    "    #printing model's precision\n",
    "    print(f'precisão:    {(precision_score(y_test, y_pred)*100).round(3)}%')\n",
    "      \n",
    "    #printing model's recall\n",
    "    print(f'recall:      {(recall_score(y_test, y_pred)*100).round(3)}%')\n",
    "    \n",
    "    #printing model's f1_score\n",
    "    print(f'f1_score:    {(f1_score(y_test, y_pred)*100).round(3)}%')\n",
    "     \n",
    "    #confusion_matrix\n",
    "    plt.rcParams['figure.figsize'] = (10, 6)\n",
    "    ax = sns.heatmap(confusion_matrix(y_test, y_pred), annot=True, cmap= 'mako_r')\n",
    "    ax.set_title(\"Confusion Matrix\", fontsize=14)\n",
    "    ax.set_xticklabels(['not sold', 'sold'], fontsize=14, rotation=90)\n",
    "    ax.set_yticklabels(['not sold', 'sold'], fontsize=14, rotation=360)"
   ]
  },
  {
   "cell_type": "code",
   "execution_count": 17,
   "metadata": {},
   "outputs": [],
   "source": [
    "def k_valid(model, X, y, cv):\n",
    "    \n",
    "    scoring = {'accuracy'  : make_scorer(accuracy_score), \n",
    "               'precision' : make_scorer(precision_score),\n",
    "               'recall'    : make_scorer(recall_score), \n",
    "               'f1_score'  : make_scorer(f1_score)}\n",
    "    \n",
    "    kfold = KFold(n_splits = cv, shuffle = False)\n",
    "    #usar o stratified, quando houver desbalanço entre as classes\n",
    "    \n",
    "    results = cross_validate(model, X, y, scoring = scoring, cv = kfold)\n",
    "    \n",
    "    #printing the model's root mean squared logarithm error\n",
    "    mean_accuracy  = results['test_accuracy'].mean()\n",
    "    std_accuracy   = results['test_accuracy'].std()\n",
    "    accuracy_lower = np.round((mean_accuracy - std_accuracy)*100, 3)\n",
    "    accuracy_upper = np.round((mean_accuracy + std_accuracy)*100, 3)\n",
    "    print(f'accuracy:     [{accuracy_lower}%, {accuracy_upper}%]')\n",
    "    \n",
    "    #printing model's precision\n",
    "    mean_precision  = results['test_precision'].mean()\n",
    "    std_precision   = results['test_precision'].std()\n",
    "    precision_lower = np.round((mean_precision - std_precision)*100, 3)\n",
    "    precision_upper = np.round((mean_precision + std_precision)*100, 3)\n",
    "    print(f'precision:    [{precision_lower}%, {precision_upper}%]')\n",
    "      \n",
    "    #printing model's recall\n",
    "    mean_recall  = results['test_recall'].mean()\n",
    "    std_recall   = results['test_recall'].std()\n",
    "    recall_lower = np.round((mean_recall - std_recall)*100, 3)\n",
    "    recall_upper = np.round((mean_recall + std_recall)*100, 3)\n",
    "    print(f'recall:       [{recall_lower}%, {recall_upper}%]')\n",
    "    \n",
    "    #printing model's f1_score\n",
    "    mean_f1_score  = results['test_f1_score'].mean()\n",
    "    std_f1_score   = results['test_f1_score'].std()\n",
    "    f1_score_lower = np.round((mean_f1_score - std_f1_score)*100, 3)\n",
    "    f1_score_upper = np.round((mean_f1_score + std_f1_score)*100, 3)\n",
    "    print(f'f1_score:     [{f1_score_lower}%, {f1_score_upper}%]')"
   ]
  },
  {
   "cell_type": "code",
   "execution_count": 16,
   "metadata": {},
   "outputs": [],
   "source": [
    "def stratified_k_valid(model, X, y, cv):\n",
    "    \n",
    "    scoring = {'accuracy'  : make_scorer(accuracy_score), \n",
    "               'precision' : make_scorer(precision_score),\n",
    "               'recall'    : make_scorer(recall_score), \n",
    "               'f1_score'  : make_scorer(f1_score)}\n",
    "    \n",
    "    kfold = StratifiedKFold(n_splits = cv, shuffle = True)\n",
    "    #usar o stratified, quando houver desbalanço entre as classes\n",
    "    \n",
    "    results = cross_validate(model, X, y, scoring = scoring, cv = kfold)\n",
    "    \n",
    "    #printing the model's root mean squared logarithm error\n",
    "    mean_accuracy  = results['test_accuracy'].mean()\n",
    "    std_accuracy   = results['test_accuracy'].std()\n",
    "    accuracy_lower = np.round((mean_accuracy - std_accuracy)*100, 3)\n",
    "    accuracy_upper = np.round((mean_accuracy + std_accuracy)*100, 3)\n",
    "    print(f'accuracy:     [{accuracy_lower}%, {accuracy_upper}%]')\n",
    "    \n",
    "    #printing model's precision\n",
    "    mean_precision  = results['test_precision'].mean()\n",
    "    std_precision   = results['test_precision'].std()\n",
    "    precision_lower = np.round((mean_precision - std_precision)*100, 3)\n",
    "    precision_upper = np.round((mean_precision + std_precision)*100, 3)\n",
    "    print(f'precision:    [{precision_lower}%, {precision_upper}%]')\n",
    "      \n",
    "    #printing model's recall\n",
    "    mean_recall  = results['test_recall'].mean()\n",
    "    std_recall   = results['test_recall'].std()\n",
    "    recall_lower = np.round((mean_recall - std_recall)*100, 3)\n",
    "    recall_upper = np.round((mean_recall + std_recall)*100, 3)\n",
    "    print(f'recall:       [{recall_lower}%, {recall_upper}%]')\n",
    "    \n",
    "    #printing model's f1_score\n",
    "    mean_f1_score  = results['test_f1_score'].mean()\n",
    "    std_f1_score   = results['test_f1_score'].std()\n",
    "    f1_score_lower = np.round((mean_f1_score - std_f1_score)*100, 3)\n",
    "    f1_score_upper = np.round((mean_f1_score + std_f1_score)*100, 3)\n",
    "    print(f'f1_score:     [{f1_score_lower}%, {f1_score_upper}%]')"
   ]
  },
  {
   "cell_type": "code",
   "execution_count": 18,
   "metadata": {},
   "outputs": [],
   "source": [
    "def group_k_valid(model, X, y, cv, group_column):\n",
    "    \n",
    "    scoring = {'accuracy'  : make_scorer(accuracy_score), \n",
    "               'precision' : make_scorer(precision_score),\n",
    "               'recall'    : make_scorer(recall_score), \n",
    "               'f1_score'  : make_scorer(f1_score)}\n",
    "    \n",
    "    kfold = GroupKFold(n_splits = cv)\n",
    "    #usar o stratified, quando houver desbalanço entre as classes\n",
    "    \n",
    "    results = cross_validate(model, X, y, scoring = scoring, cv = kfold,\n",
    "                             groups = group_column)\n",
    "    \n",
    "    #printing the model's root mean squared logarithm error\n",
    "    mean_accuracy  = results['test_accuracy'].mean()\n",
    "    std_accuracy   = results['test_accuracy'].std()\n",
    "    accuracy_lower = np.round((mean_accuracy - std_accuracy)*100, 3)\n",
    "    accuracy_upper = np.round((mean_accuracy + std_accuracy)*100, 3)\n",
    "    print(f'accuracy:     [{accuracy_lower}%, {accuracy_upper}%]')\n",
    "    \n",
    "    #printing model's precision\n",
    "    mean_precision  = results['test_precision'].mean()\n",
    "    std_precision   = results['test_precision'].std()\n",
    "    precision_lower = np.round((mean_precision - std_precision)*100, 3)\n",
    "    precision_upper = np.round((mean_precision + std_precision)*100, 3)\n",
    "    print(f'precision:    [{precision_lower}%, {precision_upper}%]')\n",
    "      \n",
    "    #printing model's recall\n",
    "    mean_recall  = results['test_recall'].mean()\n",
    "    std_recall   = results['test_recall'].std()\n",
    "    recall_lower = np.round((mean_recall - std_recall)*100, 3)\n",
    "    recall_upper = np.round((mean_recall + std_recall)*100, 3)\n",
    "    print(f'recall:       [{recall_lower}%, {recall_upper}%]')\n",
    "    \n",
    "    #printing model's f1_score\n",
    "    mean_f1_score  = results['test_f1_score'].mean()\n",
    "    std_f1_score   = results['test_f1_score'].std()\n",
    "    f1_score_lower = np.round((mean_f1_score - std_f1_score)*100, 3)\n",
    "    f1_score_upper = np.round((mean_f1_score + std_f1_score)*100, 3)\n",
    "    print(f'f1_score:     [{f1_score_lower}%, {f1_score_upper}%]')"
   ]
  },
  {
   "cell_type": "markdown",
   "metadata": {},
   "source": [
    "<h2> Baseline </h2>"
   ]
  },
  {
   "cell_type": "code",
   "execution_count": 19,
   "metadata": {},
   "outputs": [
    {
     "name": "stdout",
     "output_type": "stream",
     "text": [
      "accuracy:     [48.767%, 53.263%]\n",
      "precision:    [55.483%, 60.231%]\n",
      "recall:       [56.006%, 60.193%]\n",
      "f1_score:     [55.948%, 59.974%]\n"
     ]
    },
    {
     "name": "stderr",
     "output_type": "stream",
     "text": [
      "C:\\Users\\duelz\\anaconda3\\lib\\site-packages\\sklearn\\dummy.py:132: FutureWarning: The default value of strategy will change from stratified to prior in 0.24.\n",
      "  \"stratified to prior in 0.24.\", FutureWarning)\n"
     ]
    }
   ],
   "source": [
    "dummy = DummyClassifier()\n",
    "k_valid(dummy, scaled_X, y, cv = 10)"
   ]
  },
  {
   "cell_type": "markdown",
   "metadata": {},
   "source": [
    "<h2>Random Forest</h2>"
   ]
  },
  {
   "cell_type": "code",
   "execution_count": 20,
   "metadata": {},
   "outputs": [],
   "source": [
    "mdl_random = RandomForestClassifier(n_jobs = -1, random_state = 0, n_estimators = 500,\n",
    "                                    min_samples_leaf = 32, max_features = 'auto',\n",
    "                                    max_depth = 10)"
   ]
  },
  {
   "cell_type": "markdown",
   "metadata": {},
   "source": [
    "<h3>Testing KFold</h3>"
   ]
  },
  {
   "cell_type": "code",
   "execution_count": 21,
   "metadata": {},
   "outputs": [
    {
     "name": "stdout",
     "output_type": "stream",
     "text": [
      "accuracy:     [76.665%, 79.028%]\n",
      "precision:    [80.775%, 85.62%]\n",
      "recall:       [76.277%, 78.816%]\n",
      "f1_score:     [78.788%, 81.724%]\n"
     ]
    }
   ],
   "source": [
    "k_valid(mdl_random, scaled_X, y, cv = 10)"
   ]
  },
  {
   "cell_type": "markdown",
   "metadata": {},
   "source": [
    "<h3>Testing StratifiedKFold for unbalanced data</h3>"
   ]
  },
  {
   "cell_type": "code",
   "execution_count": null,
   "metadata": {},
   "outputs": [],
   "source": [
    "stratified_k_valid(mdl_random, scaled_X, y, cv = 10)"
   ]
  },
  {
   "cell_type": "markdown",
   "metadata": {},
   "source": [
    "<h3>\n",
    "      Generating random data from the car model, to simulate future grouping\n",
    "</h3>"
   ]
  },
  {
   "cell_type": "code",
   "execution_count": 22,
   "metadata": {},
   "outputs": [],
   "source": [
    "df['random_model'] = df.model_year + np.random.randint(-2, 3, size = len(df))"
   ]
  },
  {
   "cell_type": "code",
   "execution_count": 23,
   "metadata": {},
   "outputs": [
    {
     "data": {
      "text/html": [
       "<div>\n",
       "<style scoped>\n",
       "    .dataframe tbody tr th:only-of-type {\n",
       "        vertical-align: middle;\n",
       "    }\n",
       "\n",
       "    .dataframe tbody tr th {\n",
       "        vertical-align: top;\n",
       "    }\n",
       "\n",
       "    .dataframe thead th {\n",
       "        text-align: right;\n",
       "    }\n",
       "</style>\n",
       "<table border=\"1\" class=\"dataframe\">\n",
       "  <thead>\n",
       "    <tr style=\"text-align: right;\">\n",
       "      <th></th>\n",
       "      <th>mileage_per_year</th>\n",
       "      <th>model_year</th>\n",
       "      <th>price</th>\n",
       "      <th>sold</th>\n",
       "      <th>random_model</th>\n",
       "    </tr>\n",
       "  </thead>\n",
       "  <tbody>\n",
       "    <tr>\n",
       "      <th>0</th>\n",
       "      <td>21801</td>\n",
       "      <td>20</td>\n",
       "      <td>30941.02</td>\n",
       "      <td>1</td>\n",
       "      <td>19</td>\n",
       "    </tr>\n",
       "    <tr>\n",
       "      <th>1</th>\n",
       "      <td>7843</td>\n",
       "      <td>22</td>\n",
       "      <td>40557.96</td>\n",
       "      <td>1</td>\n",
       "      <td>20</td>\n",
       "    </tr>\n",
       "    <tr>\n",
       "      <th>2</th>\n",
       "      <td>7109</td>\n",
       "      <td>14</td>\n",
       "      <td>89627.50</td>\n",
       "      <td>0</td>\n",
       "      <td>15</td>\n",
       "    </tr>\n",
       "    <tr>\n",
       "      <th>3</th>\n",
       "      <td>26823</td>\n",
       "      <td>5</td>\n",
       "      <td>95276.14</td>\n",
       "      <td>0</td>\n",
       "      <td>7</td>\n",
       "    </tr>\n",
       "    <tr>\n",
       "      <th>4</th>\n",
       "      <td>7935</td>\n",
       "      <td>6</td>\n",
       "      <td>117384.68</td>\n",
       "      <td>1</td>\n",
       "      <td>7</td>\n",
       "    </tr>\n",
       "  </tbody>\n",
       "</table>\n",
       "</div>"
      ],
      "text/plain": [
       "   mileage_per_year  model_year      price  sold  random_model\n",
       "0             21801          20   30941.02     1            19\n",
       "1              7843          22   40557.96     1            20\n",
       "2              7109          14   89627.50     0            15\n",
       "3             26823           5   95276.14     0             7\n",
       "4              7935           6  117384.68     1             7"
      ]
     },
     "execution_count": 23,
     "metadata": {},
     "output_type": "execute_result"
    }
   ],
   "source": [
    "df.head()"
   ]
  },
  {
   "cell_type": "code",
   "execution_count": 24,
   "metadata": {},
   "outputs": [],
   "source": [
    "df.random_model = df.random_model + abs(df.random_model.min()) + 1"
   ]
  },
  {
   "cell_type": "code",
   "execution_count": 27,
   "metadata": {},
   "outputs": [],
   "source": [
    "X_group = df.drop('sold', axis = 1)\n",
    "y_group = df['sold']\n",
    "\n",
    "scaled_X_group = pd.DataFrame(scaler.fit_transform(X_group), columns = X_group.columns)"
   ]
  },
  {
   "cell_type": "markdown",
   "metadata": {},
   "source": [
    "<h3>Testing GroupKFold for group data</h3>"
   ]
  },
  {
   "cell_type": "code",
   "execution_count": 29,
   "metadata": {},
   "outputs": [
    {
     "name": "stdout",
     "output_type": "stream",
     "text": [
      "accuracy:     [76.489%, 80.336%]\n",
      "precision:    [80.44%, 86.858%]\n",
      "recall:       [75.143%, 80.867%]\n",
      "f1_score:     [78.217%, 83.157%]\n"
     ]
    }
   ],
   "source": [
    "group_k_valid(mdl_random, scaled_X_group, y_group, cv = 10, group_column = scaled_X_group.random_model)"
   ]
  },
  {
   "cell_type": "markdown",
   "metadata": {},
   "source": [
    "<h2>Pipeline</h2>"
   ]
  },
  {
   "cell_type": "code",
   "execution_count": 35,
   "metadata": {},
   "outputs": [
    {
     "data": {
      "text/plain": [
       "Pipeline(steps=[('scaling', StandardScaler()),\n",
       "                ('estimator',\n",
       "                 RandomForestClassifier(max_depth=10, min_samples_leaf=32,\n",
       "                                        n_estimators=500, n_jobs=-1,\n",
       "                                        random_state=0))])"
      ]
     },
     "execution_count": 35,
     "metadata": {},
     "output_type": "execute_result"
    }
   ],
   "source": [
    "pipe = Pipeline([('scaling', scaler), ('estimator', mdl_random)])\n",
    "pipe"
   ]
  },
  {
   "cell_type": "code",
   "execution_count": 36,
   "metadata": {},
   "outputs": [],
   "source": [
    "def pipeline_k_valid(pipeline, X, y, cv, group_column):\n",
    "    \n",
    "    scoring = {'accuracy'  : make_scorer(accuracy_score), \n",
    "               'precision' : make_scorer(precision_score),\n",
    "               'recall'    : make_scorer(recall_score), \n",
    "               'f1_score'  : make_scorer(f1_score)}\n",
    "    \n",
    "    kfold = GroupKFold(n_splits = cv)\n",
    "    #usar o stratified, quando houver desbalanço entre as classes\n",
    "    \n",
    "    results = cross_validate(pipeline, X, y, scoring = scoring, cv = kfold,\n",
    "                             groups = group_column)\n",
    "    \n",
    "    #printing the model's root mean squared logarithm error\n",
    "    mean_accuracy  = results['test_accuracy'].mean()\n",
    "    std_accuracy   = results['test_accuracy'].std()\n",
    "    accuracy_lower = np.round((mean_accuracy - std_accuracy)*100, 3)\n",
    "    accuracy_upper = np.round((mean_accuracy + std_accuracy)*100, 3)\n",
    "    print(f'accuracy:     [{accuracy_lower}%, {accuracy_upper}%]')\n",
    "    \n",
    "    #printing model's precision\n",
    "    mean_precision  = results['test_precision'].mean()\n",
    "    std_precision   = results['test_precision'].std()\n",
    "    precision_lower = np.round((mean_precision - std_precision)*100, 3)\n",
    "    precision_upper = np.round((mean_precision + std_precision)*100, 3)\n",
    "    print(f'precision:    [{precision_lower}%, {precision_upper}%]')\n",
    "      \n",
    "    #printing model's recall\n",
    "    mean_recall  = results['test_recall'].mean()\n",
    "    std_recall   = results['test_recall'].std()\n",
    "    recall_lower = np.round((mean_recall - std_recall)*100, 3)\n",
    "    recall_upper = np.round((mean_recall + std_recall)*100, 3)\n",
    "    print(f'recall:       [{recall_lower}%, {recall_upper}%]')\n",
    "    \n",
    "    #printing model's f1_score\n",
    "    mean_f1_score  = results['test_f1_score'].mean()\n",
    "    std_f1_score   = results['test_f1_score'].std()\n",
    "    f1_score_lower = np.round((mean_f1_score - std_f1_score)*100, 3)\n",
    "    f1_score_upper = np.round((mean_f1_score + std_f1_score)*100, 3)\n",
    "    print(f'f1_score:     [{f1_score_lower}%, {f1_score_upper}%]')"
   ]
  },
  {
   "cell_type": "code",
   "execution_count": 37,
   "metadata": {},
   "outputs": [
    {
     "name": "stdout",
     "output_type": "stream",
     "text": [
      "accuracy:     [76.321%, 80.42%]\n",
      "precision:    [80.145%, 87.067%]\n",
      "recall:       [75.097%, 80.882%]\n",
      "f1_score:     [78.091%, 83.214%]\n"
     ]
    }
   ],
   "source": [
    "pipeline_k_valid(pipe, X_group, y_group, cv = 10, group_column = X_group.random_model)"
   ]
  },
  {
   "cell_type": "code",
   "execution_count": null,
   "metadata": {},
   "outputs": [],
   "source": []
  }
 ],
 "metadata": {
  "kernelspec": {
   "display_name": "Python 3",
   "language": "python",
   "name": "python3"
  },
  "language_info": {
   "codemirror_mode": {
    "name": "ipython",
    "version": 3
   },
   "file_extension": ".py",
   "mimetype": "text/x-python",
   "name": "python",
   "nbconvert_exporter": "python",
   "pygments_lexer": "ipython3",
   "version": "3.7.6"
  }
 },
 "nbformat": 4,
 "nbformat_minor": 4
}
